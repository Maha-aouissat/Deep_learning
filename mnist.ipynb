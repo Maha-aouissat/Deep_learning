{
  "nbformat": 4,
  "nbformat_minor": 0,
  "metadata": {
    "colab": {
      "name": "mnist.ipynb",
      "provenance": [],
      "collapsed_sections": []
    },
    "kernelspec": {
      "name": "python3",
      "display_name": "Python 3"
    },
    "language_info": {
      "name": "python"
    },
    "accelerator": "GPU"
  },
  "cells": [
    {
      "cell_type": "code",
      "execution_count": null,
      "metadata": {
        "id": "ufRcrpnSOdaX"
      },
      "outputs": [],
      "source": [
        "import numpy as np\n",
        "from tensorflow import keras \n",
        "from  tensorflow.keras import layers\n",
        "import tensorflow as tf\n",
        "import matplotlib.pyplot as plt"
      ]
    },
    {
      "cell_type": "code",
      "source": [
        "(x_train, y_train), (x_test, y_test) = tf.keras.datasets.mnist.load_data(path='mnist.npz')"
      ],
      "metadata": {
        "id": "NH31iQXKO5s4"
      },
      "execution_count": null,
      "outputs": []
    },
    {
      "cell_type": "code",
      "source": [
        "plt.imshow(x_test[0], cmap='binary')"
      ],
      "metadata": {
        "colab": {
          "base_uri": "https://localhost:8080/",
          "height": 282
        },
        "id": "SHKCvkfOPCqC",
        "outputId": "e55be55d-657f-4022-e169-560886b671a1"
      },
      "execution_count": null,
      "outputs": [
        {
          "output_type": "execute_result",
          "data": {
            "text/plain": [
              "<matplotlib.image.AxesImage at 0x7fce3f00dad0>"
            ]
          },
          "metadata": {},
          "execution_count": 91
        },
        {
          "output_type": "display_data",
          "data": {
            "text/plain": [
              "<Figure size 432x288 with 1 Axes>"
            ],
            "image/png": "[encoded data removed]"
          },
          "metadata": {
            "needs_background": "light"
          }
        }
      ]
    },
    {
      "cell_type": "code",
      "source": [
        "y_test[0]"
      ],
      "metadata": {
        "colab": {
          "base_uri": "https://localhost:8080/"
        },
        "id": "rNaxJLlDPEO3",
        "outputId": "d25573cd-5afd-4b04-9872-d1f4110a81a0"
      },
      "execution_count": null,
      "outputs": [
        {
          "output_type": "execute_result",
          "data": {
            "text/plain": [
              "7"
            ]
          },
          "metadata": {},
          "execution_count": 92
        }
      ]
    },
    {
      "cell_type": "markdown",
      "source": [
        "Data Pre-Processing \n",
        "\n",
        "* Normalize Data\n",
        "* Dimension Data compatible with model\n",
        "* Categorisation\n"
      ],
      "metadata": {
        "id": "t8wXIU6tPxiH"
      }
    },
    {
      "cell_type": "code",
      "source": [
        "# Normalization\n",
        "\n",
        "x_train = x_train.astype('float32') / 255\n",
        "x_test = x_test.astype('float32') / 255\n",
        "\n",
        "print(np.shape(x_train))"
      ],
      "metadata": {
        "id": "8gv8xXYYPqQr",
        "colab": {
          "base_uri": "https://localhost:8080/"
        },
        "outputId": "154577e2-9ecf-4af4-871f-a92969240c2b"
      },
      "execution_count": null,
      "outputs": [
        {
          "output_type": "stream",
          "name": "stdout",
          "text": [
            "(60000, 28, 28)\n"
          ]
        }
      ]
    },
    {
      "cell_type": "code",
      "source": [
        "# Dimension equalization \n",
        "\n",
        "x_train = np.expand_dims(x_train, -1)\n",
        "print(x_train.shape)"
      ],
      "metadata": {
        "id": "6YImsawrQEoA",
        "colab": {
          "base_uri": "https://localhost:8080/"
        },
        "outputId": "2d2130cf-e0bf-4aa2-de8d-5aa57f3ea4b9"
      },
      "execution_count": null,
      "outputs": [
        {
          "output_type": "stream",
          "name": "stdout",
          "text": [
            "(60000, 28, 28, 1)\n"
          ]
        }
      ]
    },
    {
      "cell_type": "code",
      "source": [
        "# Categorisation\n",
        "y_train = keras.utils.to_categorical(y_train,10)\n",
        "y_test = keras.utils.to_categorical(y_test,10)"
      ],
      "metadata": {
        "id": "0Lg9g5WDQvCj"
      },
      "execution_count": null,
      "outputs": []
    },
    {
      "cell_type": "code",
      "source": [
        "print(y_test[0])"
      ],
      "metadata": {
        "colab": {
          "base_uri": "https://localhost:8080/"
        },
        "id": "Q2rUCWVxS61t",
        "outputId": "5b5a225f-dfd2-4c3d-ab19-8c291b39776a"
      },
      "execution_count": null,
      "outputs": [
        {
          "output_type": "stream",
          "name": "stdout",
          "text": [
            "[0. 0. 0. 0. 0. 0. 0. 1. 0. 0.]\n"
          ]
        }
      ]
    },
    {
      "cell_type": "code",
      "source": [
        "# Convolutif Model\n",
        "\n",
        "model = keras.Sequential(\n",
        "    [\n",
        "     keras.Input(shape=(28,28,1)),\n",
        "     layers.Conv2D(128,kernel_size=(3,3), activation='relu'),\n",
        "     layers.MaxPool2D(pool_size=(2,2)),\n",
        "     layers.Dropout(0.3),\n",
        "     layers.Conv2D(128,kernel_size=(3,3), activation='relu'),\n",
        "     layers.MaxPool2D(pool_size=(2,2)),\n",
        "     layers.Flatten(),\n",
        "     layers.Dense(10, activation='softmax')\n",
        "    ]\n",
        ")\n",
        "\n",
        "model.summary()"
      ],
      "metadata": {
        "colab": {
          "base_uri": "https://localhost:8080/"
        },
        "id": "B-QgbEsbTKih",
        "outputId": "2b1ff775-b2c8-40df-e393-b72dfa34be4b"
      },
      "execution_count": null,
      "outputs": [
        {
          "output_type": "stream",
          "name": "stdout",
          "text": [
            "Model: \"sequential_5\"\n",
            "_________________________________________________________________\n",
            " Layer (type)                Output Shape              Param #   \n",
            "=================================================================\n",
            " conv2d_11 (Conv2D)          (None, 26, 26, 128)       1280      \n",
            "                                                                 \n",
            " max_pooling2d_11 (MaxPoolin  (None, 13, 13, 128)      0         \n",
            " g2D)                                                            \n",
            "                                                                 \n",
            " dropout_6 (Dropout)         (None, 13, 13, 128)       0         \n",
            "                                                                 \n",
            " conv2d_12 (Conv2D)          (None, 11, 11, 128)       147584    \n",
            "                                                                 \n",
            " max_pooling2d_12 (MaxPoolin  (None, 5, 5, 128)        0         \n",
            " g2D)                                                            \n",
            "                                                                 \n",
            " flatten_5 (Flatten)         (None, 3200)              0         \n",
            "                                                                 \n",
            " dense_5 (Dense)             (None, 10)                32010     \n",
            "                                                                 \n",
            "=================================================================\n",
            "Total params: 180,874\n",
            "Trainable params: 180,874\n",
            "Non-trainable params: 0\n",
            "_________________________________________________________________\n"
          ]
        }
      ]
    },
    {
      "cell_type": "code",
      "source": [
        "def scheduler(epoch,lr):\n",
        "    if epoch == 0:\n",
        "        return lr \n",
        "    else:\n",
        "        new_lr = lr * tf.math.exp(-0.2)\n",
        "        return new_lr"
      ],
      "metadata": {
        "id": "hS5IUCSkUM63"
      },
      "execution_count": null,
      "outputs": []
    },
    {
      "cell_type": "code",
      "source": [
        "lr_scheduler = tf.keras.callbacks.LearningRateScheduler(scheduler)\n",
        "early_stopping = tf.keras.callbacks.EarlyStopping(monitor='val_loss', patience=3, restore_best_weights=True)"
      ],
      "metadata": {
        "id": "7MkQyLwMXOQz"
      },
      "execution_count": null,
      "outputs": []
    },
    {
      "cell_type": "code",
      "source": [
        "# Training\n",
        "\n",
        "batch = 16\n",
        "epochs = 100\n",
        "\n",
        "model.compile(loss='categorical_crossentropy', optimizer='adam', metrics=['accuracy'])"
      ],
      "metadata": {
        "id": "FMdTTvKMXhh6"
      },
      "execution_count": null,
      "outputs": []
    },
    {
      "cell_type": "code",
      "source": [
        "history = model.fit(x_train,y_train, batch_size=batch, callbacks=[lr_scheduler, early_stopping], epochs=epochs, validation_split=0.15)"
      ],
      "metadata": {
        "colab": {
          "base_uri": "https://localhost:8080/"
        },
        "id": "8jv75yoMxm0c",
        "outputId": "73ccf4ca-dc96-4e49-d8bb-d0f74cee61a1"
      },
      "execution_count": null,
      "outputs": [
        {
          "output_type": "stream",
          "name": "stdout",
          "text": [
            "Epoch 1/100\n",
            "3188/3188 [==============================] - 27s 8ms/step - loss: 0.1234 - accuracy: 0.9618 - val_loss: 0.0489 - val_accuracy: 0.9858 - lr: 0.0010\n",
            "Epoch 2/100\n",
            "3188/3188 [==============================] - 26s 8ms/step - loss: 0.0423 - accuracy: 0.9866 - val_loss: 0.0447 - val_accuracy: 0.9866 - lr: 8.1873e-04\n",
            "Epoch 3/100\n",
            "3188/3188 [==============================] - 27s 8ms/step - loss: 0.0277 - accuracy: 0.9910 - val_loss: 0.0424 - val_accuracy: 0.9880 - lr: 6.7032e-04\n",
            "Epoch 4/100\n",
            "3188/3188 [==============================] - 26s 8ms/step - loss: 0.0191 - accuracy: 0.9941 - val_loss: 0.0378 - val_accuracy: 0.9898 - lr: 5.4881e-04\n",
            "Epoch 5/100\n",
            "3188/3188 [==============================] - 26s 8ms/step - loss: 0.0127 - accuracy: 0.9958 - val_loss: 0.0378 - val_accuracy: 0.9906 - lr: 4.4933e-04\n",
            "Epoch 6/100\n",
            "3188/3188 [==============================] - 26s 8ms/step - loss: 0.0082 - accuracy: 0.9975 - val_loss: 0.0373 - val_accuracy: 0.9912 - lr: 3.6788e-04\n",
            "Epoch 7/100\n",
            "3188/3188 [==============================] - 26s 8ms/step - loss: 0.0056 - accuracy: 0.9981 - val_loss: 0.0414 - val_accuracy: 0.9918 - lr: 3.0119e-04\n",
            "Epoch 8/100\n",
            "3188/3188 [==============================] - 26s 8ms/step - loss: 0.0038 - accuracy: 0.9989 - val_loss: 0.0398 - val_accuracy: 0.9921 - lr: 2.4660e-04\n",
            "Epoch 9/100\n",
            "3188/3188 [==============================] - 26s 8ms/step - loss: 0.0027 - accuracy: 0.9993 - val_loss: 0.0445 - val_accuracy: 0.9916 - lr: 2.0190e-04\n"
          ]
        }
      ]
    },
    {
      "cell_type": "code",
      "source": [
        "plt.plot(history.history['loss'], label='training loss')\n",
        "plt.plot(history.history['val_loss'], label='validation loss')\n",
        "\n",
        "plt.legend()"
      ],
      "metadata": {
        "colab": {
          "base_uri": "https://localhost:8080/",
          "height": 282
        },
        "id": "8C4f2d-OyspE",
        "outputId": "0c601c0f-4af4-41fc-9570-273056e9ba0f"
      },
      "execution_count": null,
      "outputs": [
        {
          "output_type": "execute_result",
          "data": {
            "text/plain": [
              "<matplotlib.legend.Legend at 0x7fcebe023750>"
            ]
          },
          "metadata": {},
          "execution_count": 102
        },
        {
          "output_type": "display_data",
          "data": {
            "text/plain": [
              "<Figure size 432x288 with 1 Axes>"
            ],
            "image/png": "[encoded data removed]"
          },
          "metadata": {
            "needs_background": "light"
          }
        }
      ]
    },
    {
      "cell_type": "code",
      "source": [
        "model.evaluate(x_test,y_test,verbose=0)"
      ],
      "metadata": {
        "colab": {
          "base_uri": "https://localhost:8080/"
        },
        "id": "bBJJJyzy2VYy",
        "outputId": "2ac50df1-5a33-4313-e3b3-aff3c21f4990"
      },
      "execution_count": null,
      "outputs": [
        {
          "output_type": "execute_result",
          "data": {
            "text/plain": [
              "[0.029723303392529488, 0.9923999905586243]"
            ]
          },
          "metadata": {},
          "execution_count": 104
        }
      ]
    },
    {
      "cell_type": "code",
      "source": [
        ""
      ],
      "metadata": {
        "id": "OX3_1Hnl9cbe"
      },
      "execution_count": null,
      "outputs": []
    }
  ]
}